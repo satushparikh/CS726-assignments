{
 "cells": [
  {
   "cell_type": "code",
   "execution_count": 3,
   "metadata": {
    "vscode": {
     "languageId": "plaintext"
    }
   },
   "outputs": [],
   "source": [
    "import torch\n",
    "import torch.utils\n",
    "import torch.utils.data\n",
    "from tqdm.auto import tqdm\n",
    "import torch.nn as nn\n",
    "import torch.nn.functional as F\n",
    "import argparse\n",
    "import utils\n",
    "import dataset\n",
    "import os\n",
    "import matplotlib.pyplot as plt\n",
    "import numpy as np"
   ]
  },
  {
   "cell_type": "code",
   "execution_count": 4,
   "metadata": {
    "vscode": {
     "languageId": "plaintext"
    }
   },
   "outputs": [],
   "source": [
    "class NoiseScheduler():\n",
    "    \"\"\"\n",
    "    Noise scheduler for the DDPM model\n",
    "\n",
    "    Args:\n",
    "        num_timesteps: int, the number of timesteps\n",
    "        type: str, the type of scheduler to use\n",
    "        **kwargs: additional arguments for the scheduler\n",
    "\n",
    "    This object sets up all the constants like alpha, beta, sigma, etc. required for the DDPM model\n",
    "    \n",
    "    \"\"\"\n",
    "    def __init__(self, num_timesteps=50, type=\"linear\", **kwargs):\n",
    "\n",
    "        self.num_timesteps = num_timesteps\n",
    "        self.type = type\n",
    "\n",
    "        if type == \"linear\":\n",
    "            self.init_linear_schedule(**kwargs)\n",
    "        elif type == \"cosine\":\n",
    "            self.init_cosine_schedule(**kwargs)\n",
    "        elif type == \"sigmoid\":\n",
    "            self.init_sigmoid_schedule(**kwargs)\n",
    "        else:\n",
    "            raise NotImplementedError(f\"{type} scheduler is not implemented\") # change this if you implement additional schedulers\n",
    "\n",
    "\n",
    "    def init_linear_schedule(self, beta_start, beta_end):\n",
    "        \"\"\"\n",
    "        Initialise alpha and beta for linear noise scheduler\n",
    "\n",
    "        Args:\n",
    "            beta_start: Starting value of beta (the initial noise)\n",
    "            beta_end: The final value of beta (that is addded at the last time-step)\n",
    "        \"\"\"\n",
    "\n",
    "        self.betas = torch.linspace(beta_start, beta_end, self.num_timesteps, dtype=torch.float32)\n",
    "        self.alphas = 1. - self.betas\n",
    "        self.alphas_cumprod = torch.cumprod(self.alphas, dim=0)\n",
    "        self.sqrt_alpha_cumprod = torch.sqrt(self.alphas_cumprod)\n",
    "        self.sqrt_one_minus_alpha_cumprod = torch.sqrt(1 - self.alphas_cumprod)\n",
    "\n",
    "    def init_cosine_schedule(self):\n",
    "        \"\"\"Initializes a cosine noise schedule as per [1].\"\"\"\n",
    "        # Reference: https://www.zainnasir.com/blog/cosine-beta-schedule-for-denoising-diffusion-models/\n",
    "        epsilon = 0.008\n",
    "        steps = torch.linspace(0, self.num_timesteps, self.num_timesteps + 1)\n",
    "        f_t = torch.cos(( (steps / self.num_timesteps) + epsilon ) / ( 1 + epsilon ) * ( np.pi / 2 )) ** 2\n",
    "        alphas_cumprod = f_t / f_t[0]\n",
    "        self.alphas_cumprod = alphas_cumprod[:-1]\n",
    "        self.betas = 1 - (self.alphas_cumprod[1:] / self.alphas_cumprod[:-1])\n",
    "        self.betas = torch.clamp(self.betas, min=1e-5, max=0.999)\n",
    "\n",
    "    def init_sigmoid_schedule(self, beta_start, beta_end):\n",
    "        \"\"\"Initializes a sigmoid noise schedule.\"\"\"\n",
    "        x = torch.linspace(-6, 6, self.num_timesteps)\n",
    "        betas = torch.sigmoid(x) * (beta_end - beta_start) + beta_start\n",
    "        self.betas = betas\n",
    "        self.alphas = 1.0 - self.betas\n",
    "        self.alphas_cumprod = torch.cumprod(self.alphas, dim=0)\n",
    "        \n",
    "    def __len__(self):\n",
    "        return self.num_timesteps\n",
    "    \n",
    "\n",
    "def linear_noise_schedule_variations():\n",
    "    lbeta_values = [1e-4, 5e-4, 1e-3, 5e-3, 1e-2]\n",
    "    ubeta_values = [0.02, 0.03, 0.05, 0.07, 0.1]\n",
    "\n",
    "    results = []\n",
    "    for ubeta in ubeta_values:\n",
    "        for lbeta in lbeta_values:\n",
    "            scheduler = NoiseScheduler(num_timesteps=50, type=\"linear\", beta_start=lbeta, beta_end=ubeta)\n",
    "            results.append((lbeta, ubeta, scheduler.betas.numpy()))\n",
    "    return results"
   ]
  },
  {
   "cell_type": "code",
   "execution_count": 5,
   "metadata": {},
   "outputs": [],
   "source": [
    "import torch\n",
    "import torch.nn.functional as F\n",
    "\n",
    "def add_noise(x_0, noise_scheduler, device=\"cpu\", return_intermediate=False):\n",
    "    \"\"\"\n",
    "    Adds noise sequentially to an image using the NoiseScheduler.\n",
    "\n",
    "    Args:\n",
    "        x_0 (torch.Tensor): The original image tensor [batch_size, C, H, W].\n",
    "        noise_scheduler (NoiseScheduler): The noise scheduler instance.\n",
    "        device (str): Device to run the computation on (\"cpu\" or \"cuda\").\n",
    "        return_intermediate (bool): If True, return all intermediate noisy images.\n",
    "\n",
    "    Returns:\n",
    "        torch.Tensor: The final noisy image x_T.\n",
    "        (Optional) List[torch.Tensor]: If return_intermediate=True, return all intermediate noisy images.\n",
    "    \"\"\"\n",
    "    batch_size = x_0.shape[0]\n",
    "    num_steps = noise_scheduler.num_timesteps\n",
    "    noisy_images = [] if return_intermediate else None\n",
    "\n",
    "    for t in range(num_steps):\n",
    "        noise = torch.randn_like(x_0).to(device)  # Gaussian noise\n",
    "        alpha_cumprod_t = noise_scheduler.sqrt_alpha_cumprod[t].to(device)\n",
    "        one_minus_alpha_cumprod_t = noise_scheduler.sqrt_one_minus_alpha_cumprod[t].to(device)\n",
    "\n",
    "        x_t = alpha_cumprod_t * x_0 + one_minus_alpha_cumprod_t * noise  # Add noise\n",
    "        if return_intermediate:\n",
    "            noisy_images.append(x_t.clone())\n",
    "\n",
    "    return (x_t, noisy_images) if return_intermediate else x_t"
   ]
  },
  {
   "cell_type": "code",
   "execution_count": 6,
   "metadata": {},
   "outputs": [
    {
     "name": "stdout",
     "output_type": "stream",
     "text": [
      "Files already downloaded and verified\n"
     ]
    },
    {
     "name": "stderr",
     "output_type": "stream",
     "text": [
      "Clipping input data to the valid range for imshow with RGB data ([0..1] for floats or [0..255] for integers).\n",
      "Clipping input data to the valid range for imshow with RGB data ([0..1] for floats or [0..255] for integers).\n",
      "Clipping input data to the valid range for imshow with RGB data ([0..1] for floats or [0..255] for integers).\n",
      "Clipping input data to the valid range for imshow with RGB data ([0..1] for floats or [0..255] for integers).\n",
      "Clipping input data to the valid range for imshow with RGB data ([0..1] for floats or [0..255] for integers).\n"
     ]
    },
    {
     "data": {
      "image/png": "[encoded data removed]",
      "text/plain": [
       "<Figure size 1500x500 with 5 Axes>"
      ]
     },
     "metadata": {},
     "output_type": "display_data"
    }
   ],
   "source": [
    "import torch\n",
    "import torchvision\n",
    "import torchvision.transforms as transforms\n",
    "import matplotlib.pyplot as plt\n",
    "\n",
    "# Load CIFAR-10 dataset\n",
    "transform = transforms.Compose([\n",
    "    transforms.ToTensor()\n",
    "])\n",
    "\n",
    "dataset = torchvision.datasets.CIFAR10(root=\"./data\", train=True, download=True, transform=transform)\n",
    "x_0, _ = dataset[0]  # Take the first image\n",
    "x_0 = x_0.unsqueeze(0)  # Add batch dimension [1, C, H, W]\n",
    "\n",
    "# Initialize noise scheduler\n",
    "noise_scheduler = NoiseScheduler(num_timesteps=100, beta_start=0.0001, beta_end=0.02)\n",
    "\n",
    "# Generate noisy images\n",
    "x_T, noisy_images = add_noise(x_0, noise_scheduler, return_intermediate=True)\n",
    "\n",
    "# Visualize intermediate steps\n",
    "import matplotlib.pyplot as plt\n",
    "\n",
    "fig, axes = plt.subplots(1, 5, figsize=(15, 5))\n",
    "for i, ax in enumerate(axes):\n",
    "    ax.imshow(noisy_images[i * 20].squeeze().permute(1, 2, 0).cpu().numpy())  # Show every 20 steps\n",
    "    ax.set_title(f\"t={i*20}\")\n",
    "    ax.axis(\"off\")\n",
    "plt.show()"
   ]
  },
  {
   "cell_type": "code",
   "execution_count": 10,
   "metadata": {},
   "outputs": [],
   "source": [
    "import torch\n",
    "import torch.nn as nn\n",
    "import torch.nn.functional as F\n",
    "\n",
    "def backward_process(model, noisy_image, noise_scheduler, device):\n",
    "    \"\"\"\n",
    "    Perform the reverse diffusion process to generate an image from noise.\n",
    "    \n",
    "    Args:\n",
    "        model: The trained U-Net model for predicting noise.\n",
    "        noisy_image: The input noisy image (starting from pure noise at timestep T).\n",
    "        noise_scheduler: The noise scheduler instance.\n",
    "        device: Device (CPU/GPU) to run the computation on.\n",
    "\n",
    "    Returns:\n",
    "        The denoised image (approximation of original image).\n",
    "    \"\"\"\n",
    "    \n",
    "    num_steps = noise_scheduler.num_timesteps\n",
    "    x_t = noisy_image.to(device)\n",
    "    \n",
    "    for t in reversed(range(num_steps)):\n",
    "        t_tensor = torch.tensor([t], device=device, dtype=torch.long)\n",
    "        predicted_noise = model(x_t, t_tensor)  # Predict noise\n",
    "        \n",
    "        alpha_cumprod_t = noise_scheduler.alphas_cumprod[t].to(device)\n",
    "        sqrt_recip_alpha = torch.sqrt(1.0 / alpha_cumprod_t)\n",
    "        sqrt_recipm1_alpha = torch.sqrt(1.0 / alpha_cumprod_t - 1)\n",
    "        \n",
    "        # Compute mean of the posterior distribution\n",
    "        mean = sqrt_recip_alpha * (x_t - noise_scheduler.betas[t] * predicted_noise / sqrt_recipm1_alpha)\n",
    "        \n",
    "        if t > 0:\n",
    "            noise = torch.randn_like(x_t)  # Sample noise for stochasticity\n",
    "            x_t = mean + torch.sqrt(noise_scheduler.betas[t]) * noise  # Apply noise\n",
    "        else:\n",
    "            x_t = mean  # Last step, no noise added\n",
    "    \n",
    "    return x_t"
   ]
  },
  {
   "cell_type": "code",
   "execution_count": 12,
   "metadata": {},
   "outputs": [
    {
     "ename": "SyntaxError",
     "evalue": "positional argument follows keyword argument (1482366406.py, line 1)",
     "output_type": "error",
     "traceback": [
      "\u001b[0;36m  Cell \u001b[0;32mIn[12], line 1\u001b[0;36m\u001b[0m\n\u001b[0;31m    x_t = backward_process(model=UNet, x_T, \"linear\", \"CPU\")\u001b[0m\n\u001b[0m                                       ^\u001b[0m\n\u001b[0;31mSyntaxError\u001b[0m\u001b[0;31m:\u001b[0m positional argument follows keyword argument\n"
     ]
    }
   ],
   "source": [
    "x_t = backward_process(model=UNet, x_T, \"linear\", \"CPU\")"
   ]
  },
  {
   "cell_type": "code",
   "execution_count": 9,
   "metadata": {},
   "outputs": [],
   "source": [
    "class UNet(nn.Module):\n",
    "    \"\"\"\n",
    "    A simple U-Net model for denoising in the DDPM framework.\n",
    "    \"\"\"\n",
    "    def __init__(self, in_channels=3, out_channels=3, features=[64, 128, 256, 512]):\n",
    "        super(UNet, self).__init__()\n",
    "        self.encoder = nn.ModuleList()\n",
    "        self.decoder = nn.ModuleList()\n",
    "        \n",
    "        # Encoding path\n",
    "        for feature in features:\n",
    "            self.encoder.append(nn.Sequential(\n",
    "                nn.Conv2d(in_channels, feature, kernel_size=3, stride=1, padding=1),\n",
    "                nn.ReLU(),\n",
    "                nn.Conv2d(feature, feature, kernel_size=3, stride=1, padding=1),\n",
    "                nn.ReLU()\n",
    "            ))\n",
    "            in_channels = feature\n",
    "        \n",
    "        # Decoding path\n",
    "        for feature in reversed(features):\n",
    "            self.decoder.append(nn.Sequential(\n",
    "                nn.Conv2d(feature * 2, feature, kernel_size=3, stride=1, padding=1),\n",
    "                nn.ReLU(),\n",
    "                nn.Conv2d(feature, feature, kernel_size=3, stride=1, padding=1),\n",
    "                nn.ReLU()\n",
    "            ))\n",
    "        \n",
    "        self.final_layer = nn.Conv2d(features[0], out_channels, kernel_size=1)\n",
    "    \n",
    "    def forward(self, x, t):\n",
    "        skips = []\n",
    "        for enc in self.encoder:\n",
    "            x = enc(x)\n",
    "            skips.append(x)\n",
    "            x = F.avg_pool2d(x, kernel_size=2)  # Downsample\n",
    "        \n",
    "        for dec in self.decoder:\n",
    "            x = F.interpolate(x, scale_factor=2, mode='nearest')  # Upsample\n",
    "            skip = skips.pop()\n",
    "            x = torch.cat((x, skip), dim=1)\n",
    "            x = dec(x)\n",
    "        \n",
    "        return self.final_layer(x)"
   ]
  },
  {
   "cell_type": "code",
   "execution_count": null,
   "metadata": {},
   "outputs": [],
   "source": []
  }
 ],
 "metadata": {
  "kernelspec": {
   "display_name": "Python 3 (ipykernel)",
   "language": "python",
   "name": "python3"
  },
  "language_info": {
   "codemirror_mode": {
    "name": "ipython",
    "version": 3
   },
   "file_extension": ".py",
   "mimetype": "text/x-python",
   "name": "python",
   "nbconvert_exporter": "python",
   "pygments_lexer": "ipython3",
   "version": "3.8.20"
  }
 },
 "nbformat": 4,
 "nbformat_minor": 4
}
